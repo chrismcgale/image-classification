{
 "cells": [
  {
   "cell_type": "code",
   "execution_count": 66,
   "metadata": {},
   "outputs": [],
   "source": [
    "import os\n",
    "import torch\n",
    "import torchvision\n",
    "import torchvision.transforms as transforms"
   ]
  },
  {
   "cell_type": "code",
   "execution_count": 67,
   "metadata": {},
   "outputs": [],
   "source": [
    "transform = transforms.Compose(\n",
    "    [transforms.ToTensor(),\n",
    "     transforms.Normalize((0.5, 0.5, 0.5), (0.5, 0.5, 0.5))])\n",
    "\n",
    "batch_size = 4\n",
    "\n",
    "if not os.path.exists('./data'):\n",
    "    trainset = torchvision.datasets.CIFAR10(root='./data', train=True,\n",
    "                                            download=True, transform=transform)\n",
    "    trainloader = torch.utils.data.DataLoader(trainset, batch_size=batch_size,\n",
    "                                            shuffle=True, num_workers=2)\n",
    "\n",
    "    testset = torchvision.datasets.CIFAR10(root='./data', train=False,\n",
    "                                        download=True, transform=transform)\n",
    "    testloader = torch.utils.data.DataLoader(testset, batch_size=batch_size,\n",
    "                                            shuffle=False, num_workers=2)\n",
    "\n",
    "classes = ('plane', 'car', 'bird', 'cat',\n",
    "           'deer', 'dog', 'frog', 'horse', 'ship', 'truck')"
   ]
  },
  {
   "cell_type": "code",
   "execution_count": 68,
   "metadata": {},
   "outputs": [
    {
     "data": {
      "image/png": "[encoded data removed]",
      "text/plain": [
       "<Figure size 640x480 with 1 Axes>"
      ]
     },
     "metadata": {},
     "output_type": "display_data"
    },
    {
     "name": "stdout",
     "output_type": "stream",
     "text": [
      "deer  car   truck plane\n"
     ]
    }
   ],
   "source": [
    "import matplotlib.pyplot as plt\n",
    "import numpy as np\n",
    "\n",
    "# functions to show an image\n",
    "def imshow(img):\n",
    "    img = img / 2 + 0.5     # unnormalize\n",
    "    npimg = img.numpy()\n",
    "    plt.imshow(np.transpose(npimg, (1, 2, 0)))\n",
    "    plt.show()\n",
    "\n",
    "\n",
    "# get some random training images\n",
    "dataiter = iter(trainloader)\n",
    "images, labels = next(dataiter)\n",
    "\n",
    "# show images\n",
    "imshow(torchvision.utils.make_grid(images))\n",
    "# print labels\n",
    "print(' '.join(f'{classes[labels[j]]:5s}' for j in range(batch_size)))\n"
   ]
  },
  {
   "cell_type": "code",
   "execution_count": 69,
   "metadata": {},
   "outputs": [],
   "source": [
    "import torch.nn as nn\n",
    "import torch.nn.functional as F\n",
    "\n",
    "class Net(nn.Module):\n",
    "    def __init__(self):\n",
    "        super().__init__()\n",
    "        self.conv1 = nn.Conv2d(3, 6, 5)\n",
    "        self.pool = nn.MaxPool2d(2, 2)\n",
    "        self.conv2 = nn.Conv2d(6, 16, 5)\n",
    "        self.fc1 = nn.Linear(16 * 5 * 5, 120)\n",
    "        self.fc2 = nn.Linear(120, 84)\n",
    "        self.fc3 = nn.Linear(84, 10)\n",
    "\n",
    "    def forward(self, x):\n",
    "        x = self.pool(F.relu(self.conv1(x)))\n",
    "        x = self.pool(F.relu(self.conv2(x)))\n",
    "        x = torch.flatten(x, 1) # flatten all dimensions except batch\n",
    "        x = F.relu(self.fc1(x))\n",
    "        x = F.relu(self.fc2(x))\n",
    "        x = self.fc3(x)\n",
    "        return x\n",
    "\n",
    "\n",
    "net = Net()"
   ]
  },
  {
   "cell_type": "code",
   "execution_count": 70,
   "metadata": {},
   "outputs": [],
   "source": [
    "import torch.optim as optim\n",
    "\n",
    "criterion = nn.CrossEntropyLoss()\n",
    "optimizer = optim.SGD(net.parameters(), lr=0.001, momentum=0.9)"
   ]
  },
  {
   "cell_type": "code",
   "execution_count": 71,
   "metadata": {},
   "outputs": [
    {
     "name": "stdout",
     "output_type": "stream",
     "text": [
      "[1,  4000] loss: 4.103\n",
      "[1,  8000] loss: 3.307\n",
      "[1, 12000] loss: 2.942\n",
      "[2,  4000] loss: 2.764\n",
      "[2,  8000] loss: 2.672\n",
      "[2, 12000] loss: 2.587\n",
      "[3,  4000] loss: 2.418\n",
      "[3,  8000] loss: 2.401\n",
      "[3, 12000] loss: 2.342\n",
      "[4,  4000] loss: 2.205\n",
      "[4,  8000] loss: 2.215\n",
      "[4, 12000] loss: 2.201\n",
      "[5,  4000] loss: 2.028\n",
      "[5,  8000] loss: 2.080\n",
      "[5, 12000] loss: 2.094\n",
      "[6,  4000] loss: 1.917\n",
      "[6,  8000] loss: 1.973\n",
      "[6, 12000] loss: 1.990\n",
      "[7,  4000] loss: 1.834\n",
      "[7,  8000] loss: 1.875\n",
      "[7, 12000] loss: 1.884\n",
      "[8,  4000] loss: 1.719\n",
      "[8,  8000] loss: 1.804\n",
      "[8, 12000] loss: 1.846\n",
      "[9,  4000] loss: 1.644\n",
      "[9,  8000] loss: 1.731\n",
      "[9, 12000] loss: 1.767\n",
      "[10,  4000] loss: 1.558\n",
      "[10,  8000] loss: 1.667\n",
      "[10, 12000] loss: 1.713\n",
      "[11,  4000] loss: 1.513\n",
      "[11,  8000] loss: 1.617\n",
      "[11, 12000] loss: 1.664\n",
      "[12,  4000] loss: 1.466\n",
      "[12,  8000] loss: 1.563\n",
      "[12, 12000] loss: 1.606\n",
      "[13,  4000] loss: 1.417\n",
      "[13,  8000] loss: 1.541\n",
      "[13, 12000] loss: 1.585\n",
      "[14,  4000] loss: 1.389\n",
      "[14,  8000] loss: 1.500\n",
      "[14, 12000] loss: 1.547\n",
      "[15,  4000] loss: 1.352\n",
      "[15,  8000] loss: 1.450\n",
      "[15, 12000] loss: 1.520\n",
      "[16,  4000] loss: 1.276\n",
      "[16,  8000] loss: 1.425\n",
      "[16, 12000] loss: 1.517\n",
      "[17,  4000] loss: 1.268\n",
      "[17,  8000] loss: 1.399\n",
      "[17, 12000] loss: 1.457\n",
      "[18,  4000] loss: 1.265\n",
      "[18,  8000] loss: 1.392\n",
      "[18, 12000] loss: 1.424\n",
      "[19,  4000] loss: 1.239\n",
      "[19,  8000] loss: 1.343\n",
      "[19, 12000] loss: 1.404\n",
      "[20,  4000] loss: 1.234\n",
      "[20,  8000] loss: 1.331\n",
      "[20, 12000] loss: 1.399\n",
      "[21,  4000] loss: 1.200\n",
      "[21,  8000] loss: 1.322\n",
      "[21, 12000] loss: 1.391\n",
      "[22,  4000] loss: 1.181\n",
      "[22,  8000] loss: 1.312\n",
      "[22, 12000] loss: 1.370\n",
      "[23,  4000] loss: 1.150\n",
      "[23,  8000] loss: 1.312\n",
      "[23, 12000] loss: 1.351\n",
      "[24,  4000] loss: 1.138\n",
      "[24,  8000] loss: 1.298\n",
      "[24, 12000] loss: 1.358\n",
      "[25,  4000] loss: 1.167\n",
      "[25,  8000] loss: 1.287\n",
      "[25, 12000] loss: 1.311\n",
      "[26,  4000] loss: 1.115\n",
      "[26,  8000] loss: 1.245\n",
      "[26, 12000] loss: 1.318\n",
      "[27,  4000] loss: 1.157\n",
      "[27,  8000] loss: 1.251\n",
      "[27, 12000] loss: 1.321\n",
      "[28,  4000] loss: 1.146\n",
      "[28,  8000] loss: 1.263\n",
      "[28, 12000] loss: 1.308\n",
      "[29,  4000] loss: 1.122\n",
      "[29,  8000] loss: 1.245\n",
      "[29, 12000] loss: 1.286\n",
      "[30,  4000] loss: 1.106\n",
      "[30,  8000] loss: 1.229\n",
      "[30, 12000] loss: 1.310\n",
      "Finished Training\n"
     ]
    }
   ],
   "source": [
    "import numpy as np\n",
    "losses = []\n",
    "for epoch in range(30):  # loop over the dataset multiple times\n",
    "\n",
    "    running_loss = 0.0\n",
    "    for i, data in enumerate(trainloader, 0):\n",
    "        # get the inputs; data is a list of [inputs, labels]\n",
    "        inputs, labels = data\n",
    "\n",
    "        # zero the parameter gradients\n",
    "        optimizer.zero_grad()\n",
    "\n",
    "        # forward + backward + optimize\n",
    "        outputs = net(inputs)\n",
    "        loss = criterion(outputs, labels)\n",
    "        loss.backward()\n",
    "        optimizer.step()\n",
    "\n",
    "        # print statistics\n",
    "        running_loss += loss.item()\n",
    "        if i % 4000 == 3999:    # print every 4000 mini-batches\n",
    "            print(f'[{epoch + 1}, {i + 1:5d}] loss: {running_loss / 2000:.3f}')\n",
    "            running_loss = 0.0\n",
    "            \n",
    "    losses.append(running_loss  / 2000)\n",
    "\n",
    "print('Finished Training')"
   ]
  },
  {
   "cell_type": "code",
   "execution_count": 72,
   "metadata": {},
   "outputs": [
    {
     "data": {
      "text/plain": [
       "<Figure size 640x480 with 0 Axes>"
      ]
     },
     "execution_count": 72,
     "metadata": {},
     "output_type": "execute_result"
    },
    {
     "data": {
      "image/png": "[encoded data removed]",
      "text/plain": [
       "<Figure size 640x480 with 1 Axes>"
      ]
     },
     "metadata": {},
     "output_type": "display_data"
    },
    {
     "data": {
      "text/plain": [
       "<Figure size 640x480 with 0 Axes>"
      ]
     },
     "metadata": {},
     "output_type": "display_data"
    }
   ],
   "source": [
    "import matplotlib.pyplot as plt\n",
    "from numpy import arange\n",
    "from scipy.optimize import curve_fit\n",
    "\n",
    "losses = np.array(losses)\n",
    "\n",
    "plt.plot(losses)\n",
    "plt.figure()"
   ]
  },
  {
   "cell_type": "code",
   "execution_count": 73,
   "metadata": {},
   "outputs": [],
   "source": [
    "# Save model\n",
    "PATH = './cifar_net.pth'\n",
    "torch.save(net.state_dict(), PATH)"
   ]
  },
  {
   "cell_type": "code",
   "execution_count": 74,
   "metadata": {},
   "outputs": [
    {
     "name": "stdout",
     "output_type": "stream",
     "text": [
      "Accuracy of the network on the 10000 test images: 60 %\n"
     ]
    }
   ],
   "source": [
    "# Total accuracy\n",
    "correct = 0\n",
    "total = 0\n",
    "# since we're not training, we don't need to calculate the gradients for our outputs\n",
    "with torch.no_grad():\n",
    "    for data in testloader:\n",
    "        images, labels = data\n",
    "        # calculate outputs by running images through the network\n",
    "        outputs = net(images)\n",
    "        # the class with the highest energy is what we choose as prediction\n",
    "        _, predicted = torch.max(outputs.data, 1)\n",
    "        total += labels.size(0)\n",
    "        correct += (predicted == labels).sum().item()\n",
    "\n",
    "print(f'Accuracy of the network on the 10000 test images: {100 * correct // total} %')"
   ]
  },
  {
   "cell_type": "code",
   "execution_count": 75,
   "metadata": {},
   "outputs": [
    {
     "name": "stdout",
     "output_type": "stream",
     "text": [
      "Accuracy for class: plane is 64.3 %\n",
      "Accuracy for class: car   is 61.8 %\n",
      "Accuracy for class: bird  is 44.0 %\n",
      "Accuracy for class: cat   is 35.2 %\n",
      "Accuracy for class: deer  is 54.6 %\n",
      "Accuracy for class: dog   is 53.8 %\n",
      "Accuracy for class: frog  is 69.1 %\n",
      "Accuracy for class: horse is 71.1 %\n",
      "Accuracy for class: ship  is 74.9 %\n",
      "Accuracy for class: truck is 73.7 %\n"
     ]
    }
   ],
   "source": [
    "# prepare to count predictions for each class\n",
    "correct_pred = {classname: 0 for classname in classes}\n",
    "total_pred = {classname: 0 for classname in classes}\n",
    "\n",
    "# again no gradients needed\n",
    "with torch.no_grad():\n",
    "    for data in testloader:\n",
    "        images, labels = data\n",
    "        outputs = net(images)\n",
    "        _, predictions = torch.max(outputs, 1)\n",
    "        # collect the correct predictions for each class\n",
    "        for label, prediction in zip(labels, predictions):\n",
    "            if label == prediction:\n",
    "                correct_pred[classes[label]] += 1\n",
    "            total_pred[classes[label]] += 1\n",
    "\n",
    "\n",
    "# print accuracy for each class\n",
    "for classname, correct_count in correct_pred.items():\n",
    "    accuracy = 100 * float(correct_count) / total_pred[classname]\n",
    "    print(f'Accuracy for class: {classname:5s} is {accuracy:.1f} %')"
   ]
  }
 ],
 "metadata": {
  "kernelspec": {
   "display_name": "Python 3",
   "language": "python",
   "name": "python3"
  },
  "language_info": {
   "codemirror_mode": {
    "name": "ipython",
    "version": 3
   },
   "file_extension": ".py",
   "mimetype": "text/x-python",
   "name": "python",
   "nbconvert_exporter": "python",
   "pygments_lexer": "ipython3",
   "version": "3.10.8"
  },
  "orig_nbformat": 4
 },
 "nbformat": 4,
 "nbformat_minor": 2
}
